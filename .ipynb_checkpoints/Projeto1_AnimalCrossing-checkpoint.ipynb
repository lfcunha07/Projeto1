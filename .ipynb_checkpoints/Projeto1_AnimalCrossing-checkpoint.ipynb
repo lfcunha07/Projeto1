{
 "cells": [
  {
   "cell_type": "markdown",
   "metadata": {},
   "source": [
    "# Projeto 1 - Ciência dos Dados"
   ]
  },
  {
   "cell_type": "markdown",
   "metadata": {},
   "source": [
    "Nome: Anna Beatriz Lima\n",
    "\n",
    "Nome: Pedro Rubens"
   ]
  },
  {
   "cell_type": "markdown",
   "metadata": {},
   "source": [
    "Atenção: Serão permitidos grupos de três pessoas, mas com uma rubrica mais exigente. Grupos deste tamanho precisarão fazer um questionário de avaliação de trabalho em equipe"
   ]
  },
  {
   "cell_type": "markdown",
   "metadata": {},
   "source": [
    "___\n",
    "Carregando algumas bibliotecas:"
   ]
  },
  {
   "cell_type": "markdown",
   "metadata": {},
   "source": [
    "___\n",
    "## Importando Bibliotecas\n"
   ]
  },
  {
   "cell_type": "code",
   "execution_count": 136,
   "metadata": {},
   "outputs": [],
   "source": [
    "%matplotlib inline\n",
    "import pandas as pd\n",
    "import matplotlib.pyplot as plt\n",
    "import numpy as np\n",
    "import os\n",
    "import re"
   ]
  },
  {
   "cell_type": "code",
   "execution_count": 137,
   "metadata": {
    "scrolled": false
   },
   "outputs": [
    {
     "name": "stdout",
     "output_type": "stream",
     "text": [
      "Esperamos trabalhar no diretório\n",
      "C:\\Users\\User\\Downloads\\Projeto1-ttw-master\n"
     ]
    }
   ],
   "source": [
    "print('Esperamos trabalhar no diretório')\n",
    "print(os.getcwd())"
   ]
  },
  {
   "cell_type": "code",
   "execution_count": 138,
   "metadata": {},
   "outputs": [],
   "source": [
    "samsung_data = pd.read_excel('samsung1.xlsx')"
   ]
  },
  {
   "cell_type": "code",
   "execution_count": 139,
   "metadata": {},
   "outputs": [],
   "source": [
    "sum_negativo = samsung_data['Grau de relevância'] == 2.0\n",
    "negativo = samsung_data.loc[sum_negativo, :]\n",
    "\n",
    "sum_positivo = samsung_data['Grau de relevância'] == 1.0\n",
    "positivo = samsung_data.loc[sum_positivo, :]\n",
    "\n",
    "sum_neutro = samsung_data['Grau de relevância'] == 0.0\n",
    "neutro = samsung_data.loc[sum_neutro, :]\n",
    "\n"
   ]
  },
  {
   "cell_type": "code",
   "execution_count": null,
   "metadata": {},
   "outputs": [],
   "source": []
  },
  {
   "cell_type": "code",
   "execution_count": null,
   "metadata": {},
   "outputs": [],
   "source": []
  },
  {
   "cell_type": "code",
   "execution_count": 140,
   "metadata": {},
   "outputs": [],
   "source": [
    "def cleanup(text):\n",
    "    \"\"\"\n",
    "        Função de limpeza muito simples que troca alguns sinais básicos por espaços\n",
    "    \"\"\"\n",
    "    import string\n",
    "    punctuation = '[!-.:?;]' # Note que os sinais [] são delimitadores de um conjunto.\n",
    "    pattern = re.compile(punctuation)\n",
    "    text_subbed = re.sub(pattern, ' ', text)\n",
    "    return text_subbed"
   ]
  },
  {
   "cell_type": "markdown",
   "metadata": {},
   "source": [
    "Carregando a base de dados com os tweets classificados como relevantes e não relevantes:"
   ]
  },
  {
   "cell_type": "code",
   "execution_count": 161,
   "metadata": {},
   "outputs": [],
   "source": [
    "positivo_text = ''\n",
    "for t in positivo['Treinamento']:\n",
    "    t = str(t)\n",
    "    positivo_text += t\n",
    "    \n",
    "samsung_pos = cleanup(positivo_text.lower())\n"
   ]
  },
  {
   "cell_type": "code",
   "execution_count": 142,
   "metadata": {},
   "outputs": [],
   "source": [
    "negativo_text = ''\n",
    "for t in negativo['Treinamento']:\n",
    "    t = str(t)\n",
    "    negativo_text += t\n",
    "    \n",
    "samsung_neg = cleanup(negativo_text.lower())"
   ]
  },
  {
   "cell_type": "code",
   "execution_count": 143,
   "metadata": {},
   "outputs": [],
   "source": [
    "neutro_text = ''\n",
    "for t in neutro['Treinamento']:\n",
    "    t = str(t)\n",
    "    neutro_text += t\n",
    "    \n",
    "samsung_neu = cleanup(neutro_text.lower())"
   ]
  },
  {
   "cell_type": "code",
   "execution_count": null,
   "metadata": {},
   "outputs": [],
   "source": []
  },
  {
   "cell_type": "code",
   "execution_count": 144,
   "metadata": {},
   "outputs": [
    {
     "name": "stdout",
     "output_type": "stream",
     "text": [
      "@samsungbrasil @samsungbrasil vocês estão atrasando o android 10 para o galaxy a30 para outros apare\n"
     ]
    }
   ],
   "source": [
    "\n",
    "print(samsung[0:100])"
   ]
  },
  {
   "cell_type": "markdown",
   "metadata": {},
   "source": [
    "___\n",
    "### limpeza das bases"
   ]
  },
  {
   "cell_type": "markdown",
   "metadata": {},
   "source": [
    "___\n",
    "## Classificador automático de sentimento\n"
   ]
  },
  {
   "cell_type": "markdown",
   "metadata": {},
   "source": [
    "Faça aqui uma descrição do seu produto e o que considerou como relevante ou não relevante na classificação dos tweets.\n",
    "\n",
    "Escolhemos a samsung que consiste em uma marca de celulares, relógios e outros produtos voltados a tecnologia. Classificamos como relevante todos aqueles tweets que exibem alguma crítica ou sugestão. Coisas que são relevantes para a marca em si e sobre os produtos que a mesma oferece e classificamos como irrelevantes todos os tweets que contém informações superficiais e que não agregam nada para a marca."
   ]
  },
  {
   "cell_type": "markdown",
   "metadata": {},
   "source": [
    "___\n",
    "### Montando um Classificador Naive-Bayes\n",
    "\n",
    "Considerando apenas as mensagens da planilha Treinamento, ensine  seu classificador."
   ]
  },
  {
   "cell_type": "markdown",
   "metadata": {},
   "source": [
    "___\n",
    "### limpeza das bases"
   ]
  },
  {
   "cell_type": "code",
   "execution_count": null,
   "metadata": {},
   "outputs": [],
   "source": []
  },
  {
   "cell_type": "code",
   "execution_count": null,
   "metadata": {},
   "outputs": [],
   "source": []
  },
  {
   "cell_type": "code",
   "execution_count": null,
   "metadata": {},
   "outputs": [],
   "source": []
  },
  {
   "cell_type": "markdown",
   "metadata": {},
   "source": [
    "___\n",
    "### Verificando a performance do Classificador\n",
    "\n",
    "Agora você deve testar o seu classificador com a base de Testes."
   ]
  },
  {
   "cell_type": "code",
   "execution_count": 145,
   "metadata": {},
   "outputs": [
    {
     "data": {
      "text/plain": [
       "0.054437869822485205"
      ]
     },
     "execution_count": 145,
     "metadata": {},
     "output_type": "execute_result"
    }
   ],
   "source": [
    "serie_samsung_pos = pd.Series(samsung_pos.split())\n",
    "tabela_samsung_pos = serie_samsung_pos.value_counts()\n",
    "tabela_samsung_pos_relativa = serie_samsung_pos.value_counts(True)\n",
    "tabela_samsung_pos_relativa.sum()\n",
    "tabela_samsung_pos_relativa[\"samsung\"]\n"
   ]
  },
  {
   "cell_type": "code",
   "execution_count": 146,
   "metadata": {},
   "outputs": [
    {
     "data": {
      "text/plain": [
       "0.045757071547420966"
      ]
     },
     "execution_count": 146,
     "metadata": {},
     "output_type": "execute_result"
    }
   ],
   "source": [
    "serie_samsung_neg = pd.Series(samsung_neg.split())\n",
    "tabela_samsung_neg = serie_samsung_neg.value_counts()\n",
    "tabela_samsung_neg_relativa = serie_samsung_neg.value_counts(True)\n",
    "tabela_samsung_neg_relativa.sum()\n",
    "tabela_samsung_neg_relativa[\"samsung\"]"
   ]
  },
  {
   "cell_type": "code",
   "execution_count": 147,
   "metadata": {},
   "outputs": [
    {
     "data": {
      "text/plain": [
       "0.03777335984095427"
      ]
     },
     "execution_count": 147,
     "metadata": {},
     "output_type": "execute_result"
    }
   ],
   "source": [
    "serie_samsung_neu = pd.Series(samsung_neu.split())\n",
    "tabela_samsung_neu = serie_samsung_neu.value_counts()\n",
    "tabela_samsung_neu_relativa = serie_samsung_neu.value_counts(True)\n",
    "tabela_samsung_neu_relativa.sum()\n",
    "tabela_samsung_neu_relativa[\"samsung\"]"
   ]
  },
  {
   "cell_type": "code",
   "execution_count": 148,
   "metadata": {},
   "outputs": [],
   "source": [
    "samsung = samsung_pos + samsung_neg + samsung_neu"
   ]
  },
  {
   "cell_type": "code",
   "execution_count": 149,
   "metadata": {},
   "outputs": [
    {
     "data": {
      "text/plain": [
       "0.04168726314055034"
      ]
     },
     "execution_count": 149,
     "metadata": {},
     "output_type": "execute_result"
    }
   ],
   "source": [
    "serie_samsung = pd.Series(samsung.split())\n",
    "tabela_samsung_relativa = serie_samsung.value_counts(True)\n",
    "tabela_samsung_relativa[\"samsung\"]"
   ]
  },
  {
   "cell_type": "code",
   "execution_count": 150,
   "metadata": {},
   "outputs": [],
   "source": [
    "#interseçao\n",
    "\n",
    "set_posi = set(tabela_samsung_pos_relativa.index)\n",
    "set_nega = set(tabela_samsung_neg_relativa.index)\n",
    "set_neut = set(tabela_samsung_neu_relativa.index)\n",
    "\n"
   ]
  },
  {
   "cell_type": "code",
   "execution_count": 155,
   "metadata": {},
   "outputs": [],
   "source": [
    "#frase\n",
    "\n",
    "frase = 'samsung me mandou um convite bacana para a pré venda do galaxy s20, aceitei...mas e aí cadê o dinheiro kkkkk sem falar do absurdo de caro que deve ser aqui no brasil'\n",
    "frase = cleanup(frase.lower())\n",
    "\n",
    "tabela_frase = pd.Series(frase.split())\n",
    "tabela_frase_a = tabela_frase.value_counts(True)\n"
   ]
  },
  {
   "cell_type": "code",
   "execution_count": 156,
   "metadata": {},
   "outputs": [],
   "source": [
    "#pneg = tabela_samsung_relativa[serie_samsung_neg]\n",
    "#probneg = len(tabela_samsung)/len(serie_samsung_neg)\n",
    "\n",
    "tabela_samsung_absolut = serie_samsung.value_counts()\n",
    "tabela_samsung_absolut.sum()\n",
    "\n",
    "ppos = tabela_samsung_pos.sum()/tabela_samsung_absolut.sum()\n",
    "pneg = tabela_samsung_neg.sum()/tabela_samsung_absolut.sum()\n",
    "pneu = tabela_samsung_neu.sum()/tabela_samsung_absolut.sum()\n",
    "\n",
    "\n"
   ]
  },
  {
   "cell_type": "code",
   "execution_count": 157,
   "metadata": {},
   "outputs": [
    {
     "name": "stdout",
     "output_type": "stream",
     "text": [
      "['samsung' 'me' 'mandou' 'um' 'convite' 'bacana' 'para' 'a' 'pré' 'venda'\n",
      " 'do' 'galaxy' 's20' 'aceitei' 'mas' 'e' 'aí' 'cadê' 'o' 'dinheiro'\n",
      " 'kkkkk' 'sem' 'falar' 'do' 'absurdo' 'de' 'caro' 'que' 'deve' 'ser'\n",
      " 'aqui' 'no' 'brasil']\n",
      "3.692290231417897e-43\n",
      "3.413840713841756e-84\n",
      "3.070871784163999e-67\n"
     ]
    }
   ],
   "source": [
    "print(tabela_frase.values)\n",
    "\n",
    "pposPO=tabela_samsung_pos_relativa[tabela_frase.values]\n",
    "print(pposPO.prod())\n",
    "\n",
    "pposNG=tabela_samsung_neg_relativa[tabela_frase.values]\n",
    "print(pposNG.prod())\n",
    "\n",
    "pposNT=tabela_samsung_neu_relativa[tabela_frase.values]\n",
    "print(pposNT.prod())"
   ]
  },
  {
   "cell_type": "code",
   "execution_count": 158,
   "metadata": {},
   "outputs": [
    {
     "name": "stdout",
     "output_type": "stream",
     "text": [
      "5.14085557018969e-44\n",
      "6.761305879119774e-85\n",
      "2.0361160091408685e-67\n"
     ]
    }
   ],
   "source": [
    "pposf =pposPO.prod()*ppos\n",
    "print(pposf)\n",
    "pnegf =pposNG.prod()*pneg\n",
    "print(pnegf)\n",
    "pneuf =pposNT.prod()*pneu\n",
    "print(pneuf)"
   ]
  },
  {
   "cell_type": "code",
   "execution_count": null,
   "metadata": {},
   "outputs": [],
   "source": []
  },
  {
   "cell_type": "markdown",
   "metadata": {},
   "source": [
    "___\n",
    "### Concluindo"
   ]
  },
  {
   "cell_type": "code",
   "execution_count": null,
   "metadata": {},
   "outputs": [],
   "source": []
  },
  {
   "cell_type": "code",
   "execution_count": null,
   "metadata": {},
   "outputs": [],
   "source": []
  },
  {
   "cell_type": "code",
   "execution_count": null,
   "metadata": {},
   "outputs": [],
   "source": []
  },
  {
   "cell_type": "code",
   "execution_count": null,
   "metadata": {},
   "outputs": [],
   "source": []
  },
  {
   "cell_type": "markdown",
   "metadata": {},
   "source": [
    "___\n",
    "## Aperfeiçoamento:\n",
    "\n",
    "Os trabalhos vão evoluir em conceito dependendo da quantidade de itens avançados:\n",
    "\n",
    "* Limpar: \\n, :, \", ', (, ), etc SEM remover emojis\n",
    "* Corrigir separação de espaços entre palavras e emojis ou entre emojis e emojis\n",
    "* Propor outras limpezas e transformações que não afetem a qualidade da informação ou classificação\n",
    "* Criar categorias intermediárias de relevância baseadas na probabilidade: ex.: muito relevante, relevante, neutro, irrelevante, muito irrelevante (3 categorias: C, mais categorias conta para B)\n",
    "* Explicar por que não posso usar o próprio classificador para gerar mais amostras de treinamento\n",
    "* Propor diferentes cenários para Naïve Bayes fora do contexto do projeto\n",
    "* Sugerir e explicar melhorias reais com indicações concretas de como implementar (indicar como fazer e indicar material de pesquisa)\n",
    "* Montar um dashboard que periodicamente realiza análise de sentimento e visualiza estes dados"
   ]
  },
  {
   "cell_type": "markdown",
   "metadata": {},
   "source": [
    "___\n",
    "## Referências"
   ]
  },
  {
   "cell_type": "markdown",
   "metadata": {},
   "source": [
    "[Naive Bayes and Text Classification](https://arxiv.org/pdf/1410.5329.pdf)  **Mais completo**\n",
    "\n",
    "[A practical explanation of a Naive Bayes Classifier](https://monkeylearn.com/blog/practical-explanation-naive-bayes-classifier/) **Mais simples**"
   ]
  },
  {
   "cell_type": "code",
   "execution_count": null,
   "metadata": {},
   "outputs": [],
   "source": []
  }
 ],
 "metadata": {
  "kernelspec": {
   "display_name": "Python 3",
   "language": "python",
   "name": "python3"
  },
  "language_info": {
   "codemirror_mode": {
    "name": "ipython",
    "version": 3
   },
   "file_extension": ".py",
   "mimetype": "text/x-python",
   "name": "python",
   "nbconvert_exporter": "python",
   "pygments_lexer": "ipython3",
   "version": "3.7.3"
  }
 },
 "nbformat": 4,
 "nbformat_minor": 4
}
