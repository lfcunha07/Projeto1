{
 "cells": [
  {
   "cell_type": "markdown",
   "metadata": {},
   "source": [
    "# Projeto 1 - Ciência dos Dados"
   ]
  },
  {
   "cell_type": "markdown",
   "metadata": {},
   "source": [
    "Grupo: Gabriel Paiva e Luis Felipe Souza"
   ]
  },
  {
   "cell_type": "code",
   "execution_count": 605,
   "metadata": {},
   "outputs": [
    {
     "name": "stdout",
     "output_type": "stream",
     "text": [
      "Esperamos trabalhar no diretório\n",
      "C:\\Users\\luisf\\OneDrive\\Área de Trabalho\\Insper\\2°Sem\\C-Dados\\Projetos\\Projeto1\n"
     ]
    }
   ],
   "source": [
    "%matplotlib inline\n",
    "import numpy as np\n",
    "import pandas as pd\n",
    "import matplotlib.pyplot as plt\n",
    "\n",
    "import re\n",
    "import os\n",
    "\n",
    "print('Esperamos trabalhar no diretório')\n",
    "print(os.getcwd())"
   ]
  },
  {
   "cell_type": "code",
   "execution_count": 606,
   "metadata": {},
   "outputs": [],
   "source": [
    "dados = pd.ExcelFile('animalcrossing.xlsx')\n",
    "ac_data = pd.read_excel(dados,'Treinamento')"
   ]
  },
  {
   "cell_type": "code",
   "execution_count": 607,
   "metadata": {},
   "outputs": [
    {
     "data": {
      "text/plain": [
       "(184, 116)"
      ]
     },
     "execution_count": 607,
     "metadata": {},
     "output_type": "execute_result"
    }
   ],
   "source": [
    "sum_irrelevante = ac_data['Relevância'] == 0.0\n",
    "irrelevante = ac_data.loc[sum_irrelevante, :]\n",
    "\n",
    "sum_relevante = ac_data['Relevância'] == 1.0\n",
    "relevante = ac_data.loc[sum_relevante, :]\n",
    "len(relevante), len(irrelevante)"
   ]
  },
  {
   "cell_type": "code",
   "execution_count": 608,
   "metadata": {},
   "outputs": [],
   "source": [
    "def cleanup(text):\n",
    "    \"\"\"\n",
    "        Função de limpeza muito simples que troca alguns sinais básicos por espaços\n",
    "    \"\"\"\n",
    "    import string\n",
    "    punctuation = '[!-.:?;]' \n",
    "    pattern = re.compile(punctuation)\n",
    "    text_subbed = re.sub(pattern, ' ', text)\n",
    "    return text_subbed"
   ]
  },
  {
   "cell_type": "code",
   "execution_count": 609,
   "metadata": {},
   "outputs": [],
   "source": [
    "text = ''\n",
    "for t in ac_data.Treinamento:\n",
    "    text += \"\" + t\n",
    "    \n",
    "relevante_text = ''\n",
    "for t in relevante.Treinamento:\n",
    "    relevante_text += \"\" + t\n",
    "\n",
    "irrelevante_text = ''\n",
    "for t in irrelevante.Treinamento:\n",
    "    irrelevante_text += \"\" + t"
   ]
  },
  {
   "cell_type": "code",
   "execution_count": 610,
   "metadata": {},
   "outputs": [],
   "source": [
    "text = cleanup(text.lower())\n",
    "list_text = pd.Series(text.split())\n",
    "\n",
    "relevante_text = cleanup(relevante_text.lower())\n",
    "relevante_list_text = pd.Series(relevante_text.split())\n",
    "\n",
    "irrelevante_text = cleanup(irrelevante_text.lower())\n",
    "irrelevante_list_text = pd.Series(irrelevante_text.split())"
   ]
  },
  {
   "cell_type": "code",
   "execution_count": 611,
   "metadata": {},
   "outputs": [
    {
     "data": {
      "text/plain": [
       "(4692, 2807, 1886)"
      ]
     },
     "execution_count": 611,
     "metadata": {},
     "output_type": "execute_result"
    }
   ],
   "source": [
    "text_freq = list_text.value_counts()\n",
    "sum_text = text_freq.sum()\n",
    "\n",
    "relevante_list_text = relevante_fintext.value_counts()\n",
    "sum_reltext = reltext_freq.sum()\n",
    "\n",
    "irrelevante_list_text = irrelevante_fintext.value_counts()\n",
    "sum_irreltext = irreltext_freq.sum()\n",
    "sum_text,sum_reltext,sum_irreltext"
   ]
  },
  {
   "cell_type": "code",
   "execution_count": 612,
   "metadata": {},
   "outputs": [],
   "source": [
    "prob_rel = text_freq.value_counts(True)\n",
    "prob_rel_rel = reltext_freq.value_counts(True)\n",
    "prob_irrel_rel = irreltext_freq.value_counts(True)"
   ]
  },
  {
   "cell_type": "code",
   "execution_count": 613,
   "metadata": {},
   "outputs": [
    {
     "data": {
      "text/plain": [
       "(0.5982523444160273, 0.4019607843137255)"
      ]
     },
     "execution_count": 613,
     "metadata": {},
     "output_type": "execute_result"
    }
   ],
   "source": [
    "prob_rel = (sum_reltext/sum_text)\n",
    "prob_irrel = (sum_irreltext/sum_text)\n",
    "prob_rel,prob_irrel"
   ]
  },
  {
   "cell_type": "code",
   "execution_count": 614,
   "metadata": {},
   "outputs": [],
   "source": [
    "set_rel = set(prob_rel_rel.index)\n",
    "set_irrel = set(prob_irrel_rel.index)"
   ]
  },
  {
   "cell_type": "code",
   "execution_count": 615,
   "metadata": {},
   "outputs": [
    {
     "name": "stdout",
     "output_type": "stream",
     "text": [
      "1      1.186369\n",
      "2      0.210544\n",
      "3      0.060417\n",
      "4      0.040278\n",
      "5      0.032955\n",
      "6      0.025631\n",
      "7      0.016477\n",
      "11     0.010985\n",
      "10     0.007323\n",
      "12     0.007323\n",
      "13     0.007323\n",
      "16     0.005492\n",
      "8      0.005492\n",
      "9      0.005492\n",
      "17     0.005492\n",
      "19     0.003662\n",
      "52     0.003662\n",
      "22     0.003662\n",
      "24     0.003662\n",
      "47     0.003662\n",
      "42     0.001831\n",
      "91     0.001831\n",
      "77     0.001831\n",
      "71     0.001831\n",
      "43     0.001831\n",
      "31     0.001831\n",
      "36     0.001831\n",
      "18     0.001831\n",
      "29     0.001831\n",
      "14     0.001831\n",
      "15     0.001831\n",
      "20     0.001831\n",
      "151    0.001831\n",
      "183    0.001831\n",
      "dtype: float64\n",
      "1      1.271820\n",
      "2      0.203064\n",
      "3      0.057713\n",
      "4      0.025650\n",
      "9      0.017100\n",
      "7      0.014963\n",
      "5      0.010688\n",
      "6      0.010688\n",
      "8      0.008550\n",
      "39     0.006413\n",
      "15     0.004275\n",
      "10     0.004275\n",
      "13     0.004275\n",
      "18     0.004275\n",
      "31     0.004275\n",
      "97     0.002138\n",
      "12     0.002138\n",
      "11     0.002138\n",
      "17     0.002138\n",
      "19     0.002138\n",
      "30     0.002138\n",
      "38     0.002138\n",
      "41     0.002138\n",
      "46     0.002138\n",
      "50     0.002138\n",
      "112    0.002138\n",
      "dtype: float64\n"
     ]
    }
   ],
   "source": [
    "print(prob_rel_rel/prob_rel)\n",
    "print(prob_irrel_rel/prob_rel)"
   ]
  },
  {
   "cell_type": "code",
   "execution_count": 616,
   "metadata": {},
   "outputs": [
    {
     "data": {
      "text/plain": [
       "1    0.613333\n",
       "0    0.386667\n",
       "Name: Relevância, dtype: float64"
      ]
     },
     "execution_count": 616,
     "metadata": {},
     "output_type": "execute_result"
    }
   ],
   "source": [
    "ac_data['Relevância'].value_counts(True)"
   ]
  },
  {
   "cell_type": "code",
   "execution_count": 617,
   "metadata": {},
   "outputs": [
    {
     "data": {
      "text/plain": [
       "0    0.57\n",
       "1    0.43\n",
       "Name: Relevância, dtype: float64"
      ]
     },
     "execution_count": 617,
     "metadata": {},
     "output_type": "execute_result"
    }
   ],
   "source": [
    "teste = pd.read_excel(dados,'Teste')\n",
    "teste['Relevância'].value_counts(True)"
   ]
  },
  {
   "cell_type": "code",
   "execution_count": 618,
   "metadata": {},
   "outputs": [],
   "source": [
    "i=0\n",
    "relevante = 1\n",
    "irrelevante = 1\n",
    "for e in teste.Teste: \n",
    "    e = cleanup(e.lower())\n",
    "    all_tweets = pd.Series(e.split())\n",
    "    \n",
    "    for word in all_tweets:\n",
    "        relevante *= prob_rel_rel.get(palavra, 1)\n",
    "\n",
    "    for word in all_tweets:\n",
    "        irrelevante *= prob_irrel_rel.get(palavra, 1)\n",
    "\n",
    "    relevante = prob_rel * relevante\n",
    "    irrelevante = prob_irrel * irrelevante\n",
    "    \n",
    "    if irrelevante > relevante:\n",
    "        indice = 0\n",
    "    elif relevante > irrelevante:\n",
    "        indice = 1\n",
    "        \n",
    "    teste.loc[i,\"indice\"] = indice\n",
    "    i += 1"
   ]
  },
  {
   "cell_type": "code",
   "execution_count": 619,
   "metadata": {},
   "outputs": [
    {
     "data": {
      "text/plain": [
       "43"
      ]
     },
     "execution_count": 619,
     "metadata": {},
     "output_type": "execute_result"
    }
   ],
   "source": [
    "idx = 0\n",
    "total = 0\n",
    "while idx < len(teste):\n",
    "    if teste.Relevância[idx] == teste.indice[idx]:\n",
    "        total += 1\n",
    "    idx+=1 \n",
    "total"
   ]
  },
  {
   "cell_type": "code",
   "execution_count": 620,
   "metadata": {},
   "outputs": [
    {
     "data": {
      "text/plain": [
       "0.43"
      ]
     },
     "execution_count": 620,
     "metadata": {},
     "output_type": "execute_result"
    }
   ],
   "source": [
    "acerto = total/len(teste)\n",
    "acerto"
   ]
  },
  {
   "cell_type": "markdown",
   "metadata": {},
   "source": [
    "# Conclusão"
   ]
  },
  {
   "cell_type": "markdown",
   "metadata": {},
   "source": [
    "Ao final do projeto, pode-se concluir que a porcentagem de acerto cai abaixo do satisfatório. Visto que não ultilizamos qualquer tipo de análise mais a fundo do significado de cada palavra, apenas suas frequências em cada um dos casos (nesse caso, relevante e irrelevante), era de se esperar que o resultado não fosse dos melhores.\n",
    "\n",
    "Para obter um resultado mais próximo da realidade, algumas palavras (como preposições) deveriam ser retiradas das listas, visto que não trazem significado à frase. Além do mais, seria interessante selecionar algumas palavras relevantes para denotar desejo ou sua ausência, como 'quero' ou 'detesto'. Essas palavras seriam as que carregariam mais significado para que o programa pudesse dizer com mais precisão o interesse geral do público. E por fim, para deixar o programa o mais preciso possível, ele deveria ser capaz de indentificar negação e sarcasmo."
   ]
  },
  {
   "cell_type": "code",
   "execution_count": null,
   "metadata": {},
   "outputs": [],
   "source": []
  }
 ],
 "metadata": {
  "kernelspec": {
   "display_name": "Python 3",
   "language": "python",
   "name": "python3"
  },
  "language_info": {
   "codemirror_mode": {
    "name": "ipython",
    "version": 3
   },
   "file_extension": ".py",
   "mimetype": "text/x-python",
   "name": "python",
   "nbconvert_exporter": "python",
   "pygments_lexer": "ipython3",
   "version": "3.7.3"
  }
 },
 "nbformat": 4,
 "nbformat_minor": 2
}
